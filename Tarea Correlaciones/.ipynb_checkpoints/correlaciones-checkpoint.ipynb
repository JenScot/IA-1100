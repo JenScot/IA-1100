{
 "cells": [
  {
   "cell_type": "markdown",
   "metadata": {},
   "source": [
    "# Tarea Correlaciones\n",
    "\n",
    "- Dado el dataset de wh2018 (2018.csv) haga una análisis de correlaciones entre las variables numéricas continuas, en markdown haga por lo menos 4 conclusiones de los comportamientos que haya encontrado.\n",
    "\n",
    "- En otro comando de markdown ponga 3 ejemplos de causalidad."
   ]
  },
  {
   "cell_type": "markdown",
   "metadata": {},
   "source": [
    "### Analisis Dataset"
   ]
  },
  {
   "cell_type": "markdown",
   "metadata": {},
   "source": [
    "* Importando Librerías"
   ]
  },
  {
   "cell_type": "code",
   "execution_count": 1,
   "metadata": {},
   "outputs": [],
   "source": [
    "import pandas as pd\n",
    "import numpy as np\n",
    "import matplotlib.pyplot as plt\n",
    "import seaborn as sns"
   ]
  },
  {
   "cell_type": "markdown",
   "metadata": {},
   "source": [
    "* Leyendo Archivo csv."
   ]
  },
  {
   "cell_type": "code",
   "execution_count": 2,
   "metadata": {},
   "outputs": [
    {
     "data": {
      "text/html": [
       "<div>\n",
       "<style scoped>\n",
       "    .dataframe tbody tr th:only-of-type {\n",
       "        vertical-align: middle;\n",
       "    }\n",
       "\n",
       "    .dataframe tbody tr th {\n",
       "        vertical-align: top;\n",
       "    }\n",
       "\n",
       "    .dataframe thead th {\n",
       "        text-align: right;\n",
       "    }\n",
       "</style>\n",
       "<table border=\"1\" class=\"dataframe\">\n",
       "  <thead>\n",
       "    <tr style=\"text-align: right;\">\n",
       "      <th></th>\n",
       "      <th>Overall rank</th>\n",
       "      <th>Country or region</th>\n",
       "      <th>Score</th>\n",
       "      <th>GDP per capita</th>\n",
       "      <th>Social support</th>\n",
       "      <th>Healthy life expectancy</th>\n",
       "      <th>Freedom to make life choices</th>\n",
       "      <th>Generosity</th>\n",
       "      <th>Perceptions of corruption</th>\n",
       "    </tr>\n",
       "  </thead>\n",
       "  <tbody>\n",
       "    <tr>\n",
       "      <th>0</th>\n",
       "      <td>1</td>\n",
       "      <td>Finland</td>\n",
       "      <td>7.632</td>\n",
       "      <td>1.305</td>\n",
       "      <td>1.592</td>\n",
       "      <td>0.874</td>\n",
       "      <td>0.681</td>\n",
       "      <td>0.202</td>\n",
       "      <td>0.393</td>\n",
       "    </tr>\n",
       "    <tr>\n",
       "      <th>1</th>\n",
       "      <td>2</td>\n",
       "      <td>Norway</td>\n",
       "      <td>7.594</td>\n",
       "      <td>1.456</td>\n",
       "      <td>1.582</td>\n",
       "      <td>0.861</td>\n",
       "      <td>0.686</td>\n",
       "      <td>0.286</td>\n",
       "      <td>0.340</td>\n",
       "    </tr>\n",
       "    <tr>\n",
       "      <th>2</th>\n",
       "      <td>3</td>\n",
       "      <td>Denmark</td>\n",
       "      <td>7.555</td>\n",
       "      <td>1.351</td>\n",
       "      <td>1.590</td>\n",
       "      <td>0.868</td>\n",
       "      <td>0.683</td>\n",
       "      <td>0.284</td>\n",
       "      <td>0.408</td>\n",
       "    </tr>\n",
       "    <tr>\n",
       "      <th>3</th>\n",
       "      <td>4</td>\n",
       "      <td>Iceland</td>\n",
       "      <td>7.495</td>\n",
       "      <td>1.343</td>\n",
       "      <td>1.644</td>\n",
       "      <td>0.914</td>\n",
       "      <td>0.677</td>\n",
       "      <td>0.353</td>\n",
       "      <td>0.138</td>\n",
       "    </tr>\n",
       "    <tr>\n",
       "      <th>4</th>\n",
       "      <td>5</td>\n",
       "      <td>Switzerland</td>\n",
       "      <td>7.487</td>\n",
       "      <td>1.420</td>\n",
       "      <td>1.549</td>\n",
       "      <td>0.927</td>\n",
       "      <td>0.660</td>\n",
       "      <td>0.256</td>\n",
       "      <td>0.357</td>\n",
       "    </tr>\n",
       "    <tr>\n",
       "      <th>...</th>\n",
       "      <td>...</td>\n",
       "      <td>...</td>\n",
       "      <td>...</td>\n",
       "      <td>...</td>\n",
       "      <td>...</td>\n",
       "      <td>...</td>\n",
       "      <td>...</td>\n",
       "      <td>...</td>\n",
       "      <td>...</td>\n",
       "    </tr>\n",
       "    <tr>\n",
       "      <th>151</th>\n",
       "      <td>152</td>\n",
       "      <td>Yemen</td>\n",
       "      <td>3.355</td>\n",
       "      <td>0.442</td>\n",
       "      <td>1.073</td>\n",
       "      <td>0.343</td>\n",
       "      <td>0.244</td>\n",
       "      <td>0.083</td>\n",
       "      <td>0.064</td>\n",
       "    </tr>\n",
       "    <tr>\n",
       "      <th>152</th>\n",
       "      <td>153</td>\n",
       "      <td>Tanzania</td>\n",
       "      <td>3.303</td>\n",
       "      <td>0.455</td>\n",
       "      <td>0.991</td>\n",
       "      <td>0.381</td>\n",
       "      <td>0.481</td>\n",
       "      <td>0.270</td>\n",
       "      <td>0.097</td>\n",
       "    </tr>\n",
       "    <tr>\n",
       "      <th>153</th>\n",
       "      <td>154</td>\n",
       "      <td>South Sudan</td>\n",
       "      <td>3.254</td>\n",
       "      <td>0.337</td>\n",
       "      <td>0.608</td>\n",
       "      <td>0.177</td>\n",
       "      <td>0.112</td>\n",
       "      <td>0.224</td>\n",
       "      <td>0.106</td>\n",
       "    </tr>\n",
       "    <tr>\n",
       "      <th>154</th>\n",
       "      <td>155</td>\n",
       "      <td>Central African Republic</td>\n",
       "      <td>3.083</td>\n",
       "      <td>0.024</td>\n",
       "      <td>0.000</td>\n",
       "      <td>0.010</td>\n",
       "      <td>0.305</td>\n",
       "      <td>0.218</td>\n",
       "      <td>0.038</td>\n",
       "    </tr>\n",
       "    <tr>\n",
       "      <th>155</th>\n",
       "      <td>156</td>\n",
       "      <td>Burundi</td>\n",
       "      <td>2.905</td>\n",
       "      <td>0.091</td>\n",
       "      <td>0.627</td>\n",
       "      <td>0.145</td>\n",
       "      <td>0.065</td>\n",
       "      <td>0.149</td>\n",
       "      <td>0.076</td>\n",
       "    </tr>\n",
       "  </tbody>\n",
       "</table>\n",
       "<p>156 rows × 9 columns</p>\n",
       "</div>"
      ],
      "text/plain": [
       "     Overall rank         Country or region  Score  GDP per capita  \\\n",
       "0               1                   Finland  7.632           1.305   \n",
       "1               2                    Norway  7.594           1.456   \n",
       "2               3                   Denmark  7.555           1.351   \n",
       "3               4                   Iceland  7.495           1.343   \n",
       "4               5               Switzerland  7.487           1.420   \n",
       "..            ...                       ...    ...             ...   \n",
       "151           152                     Yemen  3.355           0.442   \n",
       "152           153                  Tanzania  3.303           0.455   \n",
       "153           154               South Sudan  3.254           0.337   \n",
       "154           155  Central African Republic  3.083           0.024   \n",
       "155           156                   Burundi  2.905           0.091   \n",
       "\n",
       "     Social support  Healthy life expectancy  Freedom to make life choices  \\\n",
       "0             1.592                    0.874                         0.681   \n",
       "1             1.582                    0.861                         0.686   \n",
       "2             1.590                    0.868                         0.683   \n",
       "3             1.644                    0.914                         0.677   \n",
       "4             1.549                    0.927                         0.660   \n",
       "..              ...                      ...                           ...   \n",
       "151           1.073                    0.343                         0.244   \n",
       "152           0.991                    0.381                         0.481   \n",
       "153           0.608                    0.177                         0.112   \n",
       "154           0.000                    0.010                         0.305   \n",
       "155           0.627                    0.145                         0.065   \n",
       "\n",
       "     Generosity  Perceptions of corruption  \n",
       "0         0.202                      0.393  \n",
       "1         0.286                      0.340  \n",
       "2         0.284                      0.408  \n",
       "3         0.353                      0.138  \n",
       "4         0.256                      0.357  \n",
       "..          ...                        ...  \n",
       "151       0.083                      0.064  \n",
       "152       0.270                      0.097  \n",
       "153       0.224                      0.106  \n",
       "154       0.218                      0.038  \n",
       "155       0.149                      0.076  \n",
       "\n",
       "[156 rows x 9 columns]"
      ]
     },
     "execution_count": 2,
     "metadata": {},
     "output_type": "execute_result"
    }
   ],
   "source": [
    "wh_2018 = pd.read_csv('2018.csv')\n",
    "wh_2018"
   ]
  },
  {
   "cell_type": "markdown",
   "metadata": {},
   "source": [
    "* Obteniendo Columnas"
   ]
  },
  {
   "cell_type": "code",
   "execution_count": 3,
   "metadata": {},
   "outputs": [],
   "source": [
    "wh_2018.columns\n",
    "columnas_correlacion = ['Score', 'GDP per capita',\n",
    "       'Social support', 'Healthy life expectancy',\n",
    "       'Freedom to make life choices', 'Generosity',\n",
    "       'Perceptions of corruption']"
   ]
  },
  {
   "cell_type": "markdown",
   "metadata": {},
   "source": [
    "* Generando Correlacion"
   ]
  },
  {
   "cell_type": "code",
   "execution_count": 4,
   "metadata": {},
   "outputs": [
    {
     "data": {
      "text/html": [
       "<div>\n",
       "<style scoped>\n",
       "    .dataframe tbody tr th:only-of-type {\n",
       "        vertical-align: middle;\n",
       "    }\n",
       "\n",
       "    .dataframe tbody tr th {\n",
       "        vertical-align: top;\n",
       "    }\n",
       "\n",
       "    .dataframe thead th {\n",
       "        text-align: right;\n",
       "    }\n",
       "</style>\n",
       "<table border=\"1\" class=\"dataframe\">\n",
       "  <thead>\n",
       "    <tr style=\"text-align: right;\">\n",
       "      <th></th>\n",
       "      <th>Score</th>\n",
       "      <th>GDP per capita</th>\n",
       "      <th>Social support</th>\n",
       "      <th>Healthy life expectancy</th>\n",
       "      <th>Freedom to make life choices</th>\n",
       "      <th>Generosity</th>\n",
       "      <th>Perceptions of corruption</th>\n",
       "    </tr>\n",
       "  </thead>\n",
       "  <tbody>\n",
       "    <tr>\n",
       "      <th>Score</th>\n",
       "      <td>1.000000</td>\n",
       "      <td>0.802124</td>\n",
       "      <td>0.745760</td>\n",
       "      <td>0.775814</td>\n",
       "      <td>0.544280</td>\n",
       "      <td>0.135825</td>\n",
       "      <td>0.405292</td>\n",
       "    </tr>\n",
       "    <tr>\n",
       "      <th>GDP per capita</th>\n",
       "      <td>0.802124</td>\n",
       "      <td>1.000000</td>\n",
       "      <td>0.672080</td>\n",
       "      <td>0.844273</td>\n",
       "      <td>0.332275</td>\n",
       "      <td>-0.011241</td>\n",
       "      <td>0.319582</td>\n",
       "    </tr>\n",
       "    <tr>\n",
       "      <th>Social support</th>\n",
       "      <td>0.745760</td>\n",
       "      <td>0.672080</td>\n",
       "      <td>1.000000</td>\n",
       "      <td>0.667288</td>\n",
       "      <td>0.411087</td>\n",
       "      <td>0.018226</td>\n",
       "      <td>0.218364</td>\n",
       "    </tr>\n",
       "    <tr>\n",
       "      <th>Healthy life expectancy</th>\n",
       "      <td>0.775814</td>\n",
       "      <td>0.844273</td>\n",
       "      <td>0.667288</td>\n",
       "      <td>1.000000</td>\n",
       "      <td>0.355475</td>\n",
       "      <td>0.020751</td>\n",
       "      <td>0.315569</td>\n",
       "    </tr>\n",
       "    <tr>\n",
       "      <th>Freedom to make life choices</th>\n",
       "      <td>0.544280</td>\n",
       "      <td>0.332275</td>\n",
       "      <td>0.411087</td>\n",
       "      <td>0.355475</td>\n",
       "      <td>1.000000</td>\n",
       "      <td>0.297988</td>\n",
       "      <td>0.462446</td>\n",
       "    </tr>\n",
       "    <tr>\n",
       "      <th>Generosity</th>\n",
       "      <td>0.135825</td>\n",
       "      <td>-0.011241</td>\n",
       "      <td>0.018226</td>\n",
       "      <td>0.020751</td>\n",
       "      <td>0.297988</td>\n",
       "      <td>1.000000</td>\n",
       "      <td>0.362249</td>\n",
       "    </tr>\n",
       "    <tr>\n",
       "      <th>Perceptions of corruption</th>\n",
       "      <td>0.405292</td>\n",
       "      <td>0.319582</td>\n",
       "      <td>0.218364</td>\n",
       "      <td>0.315569</td>\n",
       "      <td>0.462446</td>\n",
       "      <td>0.362249</td>\n",
       "      <td>1.000000</td>\n",
       "    </tr>\n",
       "  </tbody>\n",
       "</table>\n",
       "</div>"
      ],
      "text/plain": [
       "                                 Score  GDP per capita  Social support  \\\n",
       "Score                         1.000000        0.802124        0.745760   \n",
       "GDP per capita                0.802124        1.000000        0.672080   \n",
       "Social support                0.745760        0.672080        1.000000   \n",
       "Healthy life expectancy       0.775814        0.844273        0.667288   \n",
       "Freedom to make life choices  0.544280        0.332275        0.411087   \n",
       "Generosity                    0.135825       -0.011241        0.018226   \n",
       "Perceptions of corruption     0.405292        0.319582        0.218364   \n",
       "\n",
       "                              Healthy life expectancy  \\\n",
       "Score                                        0.775814   \n",
       "GDP per capita                               0.844273   \n",
       "Social support                               0.667288   \n",
       "Healthy life expectancy                      1.000000   \n",
       "Freedom to make life choices                 0.355475   \n",
       "Generosity                                   0.020751   \n",
       "Perceptions of corruption                    0.315569   \n",
       "\n",
       "                              Freedom to make life choices  Generosity  \\\n",
       "Score                                             0.544280    0.135825   \n",
       "GDP per capita                                    0.332275   -0.011241   \n",
       "Social support                                    0.411087    0.018226   \n",
       "Healthy life expectancy                           0.355475    0.020751   \n",
       "Freedom to make life choices                      1.000000    0.297988   \n",
       "Generosity                                        0.297988    1.000000   \n",
       "Perceptions of corruption                         0.462446    0.362249   \n",
       "\n",
       "                              Perceptions of corruption  \n",
       "Score                                          0.405292  \n",
       "GDP per capita                                 0.319582  \n",
       "Social support                                 0.218364  \n",
       "Healthy life expectancy                        0.315569  \n",
       "Freedom to make life choices                   0.462446  \n",
       "Generosity                                     0.362249  \n",
       "Perceptions of corruption                      1.000000  "
      ]
     },
     "execution_count": 4,
     "metadata": {},
     "output_type": "execute_result"
    }
   ],
   "source": [
    "correlacion = wh_2018.loc[: , columnas_correlacion].corr()\n",
    "correlacion"
   ]
  },
  {
   "cell_type": "markdown",
   "metadata": {},
   "source": [
    "* Obteniendo Gráfica "
   ]
  },
  {
   "cell_type": "code",
   "execution_count": 5,
   "metadata": {},
   "outputs": [
    {
     "name": "stderr",
     "output_type": "stream",
     "text": [
      "C:\\Users\\jenni\\AppData\\Local\\Temp/ipykernel_10716/1903558505.py:2: DeprecationWarning: `np.bool` is a deprecated alias for the builtin `bool`. To silence this warning, use `bool` by itself. Doing this will not modify any behavior and is safe. If you specifically wanted the numpy scalar type, use `np.bool_` here.\n",
      "Deprecated in NumPy 1.20; for more details and guidance: https://numpy.org/devdocs/release/1.20.0-notes.html#deprecations\n",
      "  sns.heatmap(correlacion, mask = np.zeros_like(correlacion, dtype = np.bool), cmap = sns.color_palette(\"rocket\", as_cmap=True), square = True, ax = ax )\n"
     ]
    },
    {
     "data": {
      "text/plain": [
       "<AxesSubplot:>"
      ]
     },
     "execution_count": 5,
     "metadata": {},
     "output_type": "execute_result"
    },
    {
     "data": {
      "image/png": "[encoded data removed]",
      "text/plain": [
       "<Figure size 720x576 with 2 Axes>"
      ]
     },
     "metadata": {
      "needs_background": "light"
     },
     "output_type": "display_data"
    }
   ],
   "source": [
    "f, ax = plt.subplots(figsize = (10,8))\n",
    "sns.heatmap(correlacion, mask = np.zeros_like(correlacion, dtype = np.bool), cmap = sns.color_palette(\"rocket\", as_cmap=True), square = True, ax = ax )"
   ]
  },
  {
   "cell_type": "markdown",
   "metadata": {},
   "source": [
    "### Conclusiones"
   ]
  },
  {
   "cell_type": "markdown",
   "metadata": {},
   "source": [
    "* Obteniendo Mediana"
   ]
  },
  {
   "cell_type": "code",
   "execution_count": 6,
   "metadata": {},
   "outputs": [
    {
     "data": {
      "text/plain": [
       "Score                           5.3780\n",
       "GDP per capita                  0.9495\n",
       "Social support                  1.2550\n",
       "Healthy life expectancy         0.6440\n",
       "Freedom to make life choices    0.4870\n",
       "Generosity                      0.1740\n",
       "Perceptions of corruption       0.0820\n",
       "dtype: float64"
      ]
     },
     "execution_count": 6,
     "metadata": {},
     "output_type": "execute_result"
    }
   ],
   "source": [
    "mediana_columna = wh_2018[columnas_correlacion].median()\n",
    "mediana_columna"
   ]
  },
  {
   "cell_type": "markdown",
   "metadata": {},
   "source": [
    "* Resultado del Análisis\n",
    "\n",
    "--> Si observamos tanto la correlación como la mediana, se puede deducir que a mayor suporte social, mayor será la expectativa de vida.\n",
    "\n",
    "--> Con el PIB per cápita podemos llegar a concluir que si el desarrollo económico es deficiente, la expectativa de vivir una vida saludable se reduce.\n",
    "\n",
    "--> La generosidad debido a los valores representados no contribuye de manera decisiva en la economía y el desarrollo del PIB per cápita de los países en mención.\n",
    "\n",
    "--> Aunque la corrupción se creería que es una posible causa de vivir mal, este aspecto no es tomado como una amenaza directa a poder vivir una vida saludable."
   ]
  },
  {
   "cell_type": "markdown",
   "metadata": {},
   "source": [
    "### Ejemplos de Causalidad\n",
    "\n",
    "* La presencia de una relación causal no siempre significa que existe una correlación.\n",
    "\n",
    "Supongamos que un termostato mantiene un hogar a una temperatura constante controlando un horno de aceite. Dependiendo de la temperatura exterior, se quemará más o menos aceite. Pero como el termostato mantiene la temperatura interior constante, la temperatura interior no tendrá correlación con la cantidad de aceite quemado. El aceite es lo que mantiene la casa caliente, una relación causal, pero no está correlacionada con la temperatura de la casa.\n",
    "\n",
    "* Incluso si existe una relación causal entre dos variables, la correlación por sí misma no nos dice nada sobre la dirección de la causalidad.\n",
    "\n",
    "Se ha afirmado que los estilos de vida activos pueden proteger el funcionamiento cognitivo de las personas mayores. Pero algunas evidencias sugieren que la dirección causal es la opuesta: un funcionamiento cognitivo más alto puede resultar en un estilo de vida más activo.\n",
    "\n",
    "* La presencia de una correlación no siempre significa que haya una relación causal.\n",
    "\n",
    "Por ejemplo, un estudio de 1999 publicado en Nature mostró que los niños menores de dos años que dormían con luces nocturnas tenían más probabilidades de tener miopía. Más tarde, otros investigadores demostraron que los padres miopes tenían más probabilidades de mantener sus luces encendidas por la noche. Puede ser que los padres fueran una causa común del uso de luces nocturnas y, en virtud de la herencia genética, la miopía se transmitió a sus hijos."
   ]
  }
 ],
 "metadata": {
  "interpreter": {
   "hash": "ffa6aaf237ea704d6741db8584dd10d48a2ffa2c2c5fc81f0990725255c432c9"
  },
  "kernelspec": {
   "display_name": "Python 3 (ipykernel)",
   "language": "python",
   "name": "python3"
  },
  "language_info": {
   "codemirror_mode": {
    "name": "ipython",
    "version": 3
   },
   "file_extension": ".py",
   "mimetype": "text/x-python",
   "name": "python",
   "nbconvert_exporter": "python",
   "pygments_lexer": "ipython3",
   "version": "3.9.7"
  }
 },
 "nbformat": 4,
 "nbformat_minor": 4
}
